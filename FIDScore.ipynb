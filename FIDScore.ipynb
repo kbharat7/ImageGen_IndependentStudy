{
  "cells": [
    {
      "cell_type": "code",
      "source": [
        "from azureml.core import Workspace, Datastore\n",
        "from azureml.data.datapath import DataPath\n",
        "from azureml.core.dataset import Dataset\n",
        "import os"
      ],
      "outputs": [],
      "execution_count": 1,
      "metadata": {
        "jupyter": {
          "source_hidden": false,
          "outputs_hidden": false
        },
        "nteract": {
          "transient": {
            "deleting": false
          }
        },
        "gather": {
          "logged": 1712005765543
        }
      }
    },
    {
      "cell_type": "code",
      "source": [
        "# Access the workspace\n",
        "ws = Workspace.from_config()\n",
        "\n",
        "# Access the datastore\n",
        "ds = Datastore.get(ws, 'myindepentstudyworkdata')\n",
        "\n",
        "# Set the local path where you want to download the files\n",
        "local_path = 'GeneratedImages'  # e.g., 'data'\n",
        "if not os.path.exists(local_path):\n",
        "    os.makedirs(local_path)\n"
      ],
      "outputs": [],
      "execution_count": 2,
      "metadata": {
        "jupyter": {
          "source_hidden": false,
          "outputs_hidden": false
        },
        "nteract": {
          "transient": {
            "deleting": false
          }
        },
        "gather": {
          "logged": 1712005768978
        }
      }
    },
    {
      "cell_type": "code",
      "source": [
        "# List of your folder names in the blob storage\n",
        "folders = ['Bharat_GeneratedImages/Large_new', 'Bharat_GeneratedImages/Normal_new', 'Bharat_GeneratedImages/Small_new/']\n",
        "\n",
        "for folder in folders:\n",
        "    # Define the path in the datastore\n",
        "    datastore_path = DataPath(ds, folder)\n",
        "    \n",
        "    # Define the path in the local workspace\n",
        "    download_path = os.path.join(local_path, folder)\n",
        "    \n",
        "    # Create the local directory if it does not exist\n",
        "    if not os.path.exists(download_path):\n",
        "        os.makedirs(download_path)\n",
        "    \n",
        "    # Create a dataset pointing to the files in the folder\n",
        "    dataset = Dataset.File.from_files(datastore_path)\n",
        "    \n",
        "    # Download the files in the folder to the local workspace\n",
        "    dataset.download(target_path=download_path, overwrite=True)\n",
        "    print(f\"Files in {folder} have been downloaded to {download_path}\")\n"
      ],
      "outputs": [
        {
          "output_type": "stream",
          "name": "stdout",
          "text": "{'infer_column_types': 'False', 'activity': 'download'}\n{'infer_column_types': 'False', 'activity': 'download', 'activityApp': 'FileDataset'}\nFiles in Bharat_GeneratedImages/Large_new have been downloaded to GeneratedImages/Bharat_GeneratedImages/Large_new\n{'infer_column_types': 'False', 'activity': 'download'}\n{'infer_column_types': 'False', 'activity': 'download', 'activityApp': 'FileDataset'}\nFiles in Bharat_GeneratedImages/Normal_new have been downloaded to GeneratedImages/Bharat_GeneratedImages/Normal_new\n{'infer_column_types': 'False', 'activity': 'download'}\n{'infer_column_types': 'False', 'activity': 'download', 'activityApp': 'FileDataset'}\nFiles in Bharat_GeneratedImages/Small_new/ have been downloaded to GeneratedImages/Bharat_GeneratedImages/Small_new/\n"
        }
      ],
      "execution_count": 4,
      "metadata": {
        "jupyter": {
          "source_hidden": false,
          "outputs_hidden": false
        },
        "nteract": {
          "transient": {
            "deleting": false
          }
        },
        "gather": {
          "logged": 1712006051366
        }
      }
    },
    {
      "cell_type": "code",
      "source": [
        "import numpy as np\n",
        "from scipy.linalg import sqrtm\n",
        "from keras.applications.inception_v3 import InceptionV3, preprocess_input\n",
        "from keras.preprocessing.image import load_img, img_to_array\n",
        "from keras.models import Model\n",
        "import glob"
      ],
      "outputs": [
        {
          "output_type": "stream",
          "name": "stderr",
          "text": "2024-04-01 23:11:13.020396: I tensorflow/core/platform/cpu_feature_guard.cc:210] This TensorFlow binary is optimized to use available CPU instructions in performance-critical operations.\nTo enable the following instructions: AVX2 FMA, in other operations, rebuild TensorFlow with the appropriate compiler flags.\n2024-04-01 23:11:16.255689: W tensorflow/compiler/tf2tensorrt/utils/py_utils.cc:38] TF-TRT Warning: Could not find TensorRT\n"
        }
      ],
      "execution_count": 3,
      "metadata": {
        "jupyter": {
          "source_hidden": false,
          "outputs_hidden": false
        },
        "nteract": {
          "transient": {
            "deleting": false
          }
        },
        "gather": {
          "logged": 1712013081836
        }
      }
    },
    {
      "cell_type": "code",
      "source": [
        "def load_images(path, size=(299, 299)):\n",
        "    images_list = []\n",
        "    for filename in glob.glob(path + '/*.png'):  # assuming jpg format\n",
        "        image = load_img(filename, target_size=size)\n",
        "        image = img_to_array(image)\n",
        "        # Expand dimensions to fit model expected input\n",
        "        image = np.expand_dims(image, axis=0)\n",
        "        images_list.append(image)\n",
        "    images = np.vstack(images_list)\n",
        "    return images\n",
        "\n",
        "def preprocess_images(images):\n",
        "    images = images.astype('float32')\n",
        "    images = preprocess_input(images)  # Preprocess based on InceptionV3 requirements\n",
        "    return images"
      ],
      "outputs": [],
      "execution_count": 4,
      "metadata": {
        "jupyter": {
          "source_hidden": false,
          "outputs_hidden": false
        },
        "nteract": {
          "transient": {
            "deleting": false
          }
        },
        "gather": {
          "logged": 1712013082069
        }
      }
    },
    {
      "cell_type": "code",
      "source": [
        "def model_feature_extractor():\n",
        "    model = InceptionV3(include_top=False, pooling='avg', input_shape=(299, 299, 3))\n",
        "    return model\n",
        "\n",
        "def get_image_features(model, images):\n",
        "    features = model.predict(images, verbose=0)\n",
        "    return features\n"
      ],
      "outputs": [],
      "execution_count": 5,
      "metadata": {
        "jupyter": {
          "source_hidden": false,
          "outputs_hidden": false
        },
        "nteract": {
          "transient": {
            "deleting": false
          }
        },
        "gather": {
          "logged": 1712013082211
        }
      }
    },
    {
      "cell_type": "code",
      "source": [
        "def calculate_fid(real_features, generated_features):\n",
        "    mu1, sigma1 = real_features.mean(axis=0), np.cov(real_features, rowvar=False)\n",
        "    mu2, sigma2 = generated_features.mean(axis=0), np.cov(generated_features, rowvar=False)\n",
        "    ssdiff = np.sum((mu1 - mu2)**2.0)\n",
        "    covmean, _ = sqrtm(sigma1.dot(sigma2), disp=False)\n",
        "    if np.iscomplexobj(covmean):\n",
        "        covmean = covmean.real\n",
        "    # Numerical stability fix\n",
        "    sigma1 += np.eye(sigma1.shape[0]) * 1e-6\n",
        "    sigma2 += np.eye(sigma2.shape[0]) * 1e-6\n",
        "    fid = ssdiff + np.trace(sigma1 + sigma2 - 2.0 * sqrtm(sigma1.dot(sigma2)))\n",
        "    if np.iscomplexobj(fid):\n",
        "        fid = fid.real\n",
        "    return fid\n"
      ],
      "outputs": [],
      "execution_count": 6,
      "metadata": {
        "jupyter": {
          "source_hidden": false,
          "outputs_hidden": false
        },
        "nteract": {
          "transient": {
            "deleting": false
          }
        },
        "gather": {
          "logged": 1712013082355
        }
      }
    },
    {
      "cell_type": "code",
      "source": [
        "!pwd"
      ],
      "outputs": [
        {
          "output_type": "stream",
          "name": "stdout",
          "text": "/mnt/batch/tasks/shared/LS_root/mounts/clusters/bkathuri1/code/Users/bkathuri\r\n"
        }
      ],
      "execution_count": 7,
      "metadata": {
        "jupyter": {
          "source_hidden": false,
          "outputs_hidden": false
        },
        "nteract": {
          "transient": {
            "deleting": false
          }
        }
      }
    },
    {
      "cell_type": "code",
      "source": [
        "# Paths to your datasets\n",
        "real_images_path = 'Train/Small'  # Update this path\n",
        "generated_images_path = 'GeneratedImages/Bharat_GeneratedImages/Small_new'  # Update this path\n",
        "\n",
        "# Load and preprocess images\n",
        "real_images = preprocess_images(load_images(real_images_path))\n",
        "generated_images = preprocess_images(load_images(generated_images_path))\n",
        "\n",
        "# Load the model\n",
        "model = model_feature_extractor()\n",
        "\n",
        "# Extract features\n",
        "real_features = get_image_features(model, real_images)\n",
        "generated_features = get_image_features(model, generated_images)\n",
        "\n",
        "# Calculate FID\n",
        "fid = calculate_fid(real_features, generated_features)\n",
        "print(f'FID score: {fid}')\n"
      ],
      "outputs": [
        {
          "output_type": "stream",
          "name": "stderr",
          "text": "2024-04-01 23:13:39.967040: W tensorflow/core/common_runtime/gpu/gpu_device.cc:2251] Cannot dlopen some GPU libraries. Please make sure the missing libraries mentioned above are installed properly if you would like to use GPU. Follow the guide at https://www.tensorflow.org/install/gpu for how to download and setup the required libraries for your platform.\nSkipping registering GPU devices...\n"
        },
        {
          "output_type": "stream",
          "name": "stdout",
          "text": "FID score: 86.29920753459524\n"
        }
      ],
      "execution_count": 8,
      "metadata": {
        "jupyter": {
          "source_hidden": false,
          "outputs_hidden": false
        },
        "nteract": {
          "transient": {
            "deleting": false
          }
        },
        "gather": {
          "logged": 1712013261325
        }
      }
    },
    {
      "cell_type": "code",
      "source": [
        "# Paths to your datasets\n",
        "real_images_path = 'Train/Normal'  # Update this path\n",
        "generated_images_path = 'GeneratedImages/Bharat_GeneratedImages/Normal_new'  # Update this path\n",
        "\n",
        "# Load and preprocess images\n",
        "real_images = preprocess_images(load_images(real_images_path))\n",
        "generated_images = preprocess_images(load_images(generated_images_path))\n",
        "\n",
        "# Load the model\n",
        "model = model_feature_extractor()\n",
        "\n",
        "# Extract features\n",
        "real_features = get_image_features(model, real_images)\n",
        "generated_features = get_image_features(model, generated_images)\n",
        "\n",
        "# Calculate FID\n",
        "fid = calculate_fid(real_features, generated_features)\n",
        "print(f'FID score: {fid}')\n"
      ],
      "outputs": [
        {
          "output_type": "stream",
          "name": "stdout",
          "text": "FID score: 60.38588786532444\n"
        }
      ],
      "execution_count": 9,
      "metadata": {
        "jupyter": {
          "source_hidden": false,
          "outputs_hidden": false
        },
        "nteract": {
          "transient": {
            "deleting": false
          }
        },
        "gather": {
          "logged": 1712013459367
        }
      }
    },
    {
      "cell_type": "code",
      "source": [
        "# Paths to your datasets\n",
        "real_images_path = 'Train/Large'  # Update this path\n",
        "generated_images_path = 'GeneratedImages/Bharat_GeneratedImages/Large_new'  # Update this path\n",
        "\n",
        "# Load and preprocess images\n",
        "real_images = preprocess_images(load_images(real_images_path))\n",
        "generated_images = preprocess_images(load_images(generated_images_path))\n",
        "\n",
        "# Load the model\n",
        "model = model_feature_extractor()\n",
        "\n",
        "# Extract features\n",
        "real_features = get_image_features(model, real_images)\n",
        "generated_features = get_image_features(model, generated_images)\n",
        "\n",
        "# Calculate FID\n",
        "fid = calculate_fid(real_features, generated_features)\n",
        "print(f'FID score: {fid}')\n"
      ],
      "outputs": [
        {
          "output_type": "stream",
          "name": "stdout",
          "text": "FID score: 54.7671899856191\n"
        }
      ],
      "execution_count": 10,
      "metadata": {
        "jupyter": {
          "source_hidden": false,
          "outputs_hidden": false
        },
        "nteract": {
          "transient": {
            "deleting": false
          }
        },
        "gather": {
          "logged": 1712013650871
        }
      }
    },
    {
      "cell_type": "code",
      "source": [],
      "outputs": [],
      "execution_count": null,
      "metadata": {
        "jupyter": {
          "source_hidden": false,
          "outputs_hidden": false
        },
        "nteract": {
          "transient": {
            "deleting": false
          }
        }
      }
    }
  ],
  "metadata": {
    "kernelspec": {
      "name": "myenv",
      "language": "python",
      "display_name": "Python (myenv)"
    },
    "language_info": {
      "name": "python",
      "version": "3.10.12",
      "mimetype": "text/x-python",
      "codemirror_mode": {
        "name": "ipython",
        "version": 3
      },
      "pygments_lexer": "ipython3",
      "nbconvert_exporter": "python",
      "file_extension": ".py"
    },
    "microsoft": {
      "ms_spell_check": {
        "ms_spell_check_language": "en"
      },
      "host": {
        "AzureML": {
          "notebookHasBeenCompleted": true
        }
      }
    },
    "kernel_info": {
      "name": "myenv"
    },
    "nteract": {
      "version": "nteract-front-end@1.0.0"
    }
  },
  "nbformat": 4,
  "nbformat_minor": 2
}