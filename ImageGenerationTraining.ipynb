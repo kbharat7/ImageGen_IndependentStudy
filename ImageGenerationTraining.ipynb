{
  "cells": [
    {
      "cell_type": "code",
      "source": [
        "!ls"
      ],
      "outputs": [
        {
          "output_type": "stream",
          "name": "stdout",
          "text": "ImageGeneration.ipynb\t       imagegeneration.ipynb.amltmp\r\nImageGenerationTraining.ipynb  imagegenerationtraining.ipynb.amltmp\r\ndiffusers\t\t       run_accelerate.sh\r\n"
        }
      ],
      "execution_count": 1,
      "metadata": {
        "jupyter": {
          "source_hidden": false,
          "outputs_hidden": false
        },
        "nteract": {
          "transient": {
            "deleting": false
          }
        }
      }
    },
    {
      "cell_type": "code",
      "source": [
        "!pwd"
      ],
      "outputs": [
        {
          "output_type": "stream",
          "name": "stdout",
          "text": "/mnt/batch/tasks/shared/LS_root/mounts/clusters/bkathuri1/code/Users/bkathuri\r\n"
        }
      ],
      "execution_count": 3,
      "metadata": {
        "jupyter": {
          "source_hidden": false,
          "outputs_hidden": false
        },
        "nteract": {
          "transient": {
            "deleting": false
          }
        }
      }
    },
    {
      "cell_type": "code",
      "source": [
        "import os\n",
        "\n",
        "os.environ['MODEL_NAME'] = f'CompVis/stable-diffusion-v1-2'\n",
        "os.environ['DATASET_NAME'] = f'kbharat7/DogChestXrayDatasetNew'\n",
        "os.environ['OUTPUT_DIR'] = f'newmodel'"
      ],
      "outputs": [],
      "execution_count": 19,
      "metadata": {
        "jupyter": {
          "source_hidden": false,
          "outputs_hidden": false
        },
        "nteract": {
          "transient": {
            "deleting": false
          }
        },
        "gather": {
          "logged": 1711332477062
        }
      }
    },
    {
      "cell_type": "code",
      "source": [
        "from huggingface_hub import notebook_login\n",
        "notebook_login()"
      ],
      "outputs": [
        {
          "output_type": "display_data",
          "data": {
            "text/plain": "VBox(children=(HTML(value='<center> <img\\nsrc=https://huggingface.co/front/assets/huggingface_logo-noborder.sv…",
            "application/vnd.jupyter.widget-view+json": {
              "version_major": 2,
              "version_minor": 0,
              "model_id": "60e6f6ba1b1440728bd515a77d96776b"
            }
          },
          "metadata": {}
        }
      ],
      "execution_count": 3,
      "metadata": {
        "jupyter": {
          "source_hidden": false,
          "outputs_hidden": false
        },
        "nteract": {
          "transient": {
            "deleting": false
          }
        },
        "gather": {
          "logged": 1711331267198
        }
      }
    },
    {
      "cell_type": "code",
      "source": [
        "!ls"
      ],
      "outputs": [
        {
          "output_type": "stream",
          "name": "stdout",
          "text": "ImageGeneration.ipynb\t       imagegenerationtraining.ipynb.amltmp\r\nImageGenerationTraining.ipynb  run_accelerate.sh\r\ndiffusers\t\t       run_accelerate.sh.amltmp\r\nimagegeneration.ipynb.amltmp\r\n"
        }
      ],
      "execution_count": 4,
      "metadata": {
        "jupyter": {
          "source_hidden": false,
          "outputs_hidden": false
        },
        "nteract": {
          "transient": {
            "deleting": false
          }
        }
      }
    },
    {
      "cell_type": "code",
      "source": [
        "!chmod a+rwx run_accelerate.sh"
      ],
      "outputs": [],
      "execution_count": 8,
      "metadata": {
        "jupyter": {
          "source_hidden": false,
          "outputs_hidden": false
        },
        "nteract": {
          "transient": {
            "deleting": false
          }
        }
      }
    },
    {
      "cell_type": "code",
      "source": [
        "!./run_accelerate.sh"
      ],
      "outputs": [
        {
          "output_type": "stream",
          "name": "stdout",
          "text": "03/25/2024 02:55:50 - INFO - __main__ - Distributed environment: NO\nNum processes: 1\nProcess index: 0\nLocal process index: 0\nDevice: cuda\n\nMixed precision type: fp16\n\n{'sample_max_value', 'timestep_spacing', 'variance_type', 'rescale_betas_zero_snr', 'clip_sample', 'prediction_type', 'clip_sample_range', 'thresholding', 'dynamic_thresholding_ratio'} was not found in config. Values will be initialized to default values.\n{'latents_std', 'norm_num_groups', 'scaling_factor', 'latents_mean', 'force_upcast'} was not found in config. Values will be initialized to default values.\n{'projection_class_embeddings_input_dim', 'class_embeddings_concat', 'addition_embed_type_num_heads', 'upcast_attention', 'encoder_hid_dim', 'time_embedding_dim', 'addition_embed_type', 'addition_time_embed_dim', 'num_class_embeds', 'conv_out_kernel', 'reverse_transformer_layers_per_block', 'use_linear_projection', 'dual_cross_attention', 'resnet_out_scale_factor', 'resnet_skip_time_act', 'encoder_hid_dim_type', 'transformer_layers_per_block', 'attention_type', 'class_embed_type', 'time_embedding_act_fn', 'resnet_time_scale_shift', 'mid_block_only_cross_attention', 'num_attention_heads', 'conv_in_kernel', 'time_embedding_type', 'time_cond_proj_dim', 'cross_attention_norm', 'dropout', 'timestep_post_act', 'mid_block_type', 'only_cross_attention'} was not found in config. Values will be initialized to default values.\n{'projection_class_embeddings_input_dim', 'class_embeddings_concat', 'addition_embed_type_num_heads', 'upcast_attention', 'encoder_hid_dim', 'time_embedding_dim', 'addition_embed_type', 'addition_time_embed_dim', 'num_class_embeds', 'conv_out_kernel', 'reverse_transformer_layers_per_block', 'use_linear_projection', 'dual_cross_attention', 'resnet_out_scale_factor', 'resnet_skip_time_act', 'encoder_hid_dim_type', 'transformer_layers_per_block', 'attention_type', 'class_embed_type', 'time_embedding_act_fn', 'resnet_time_scale_shift', 'mid_block_only_cross_attention', 'num_attention_heads', 'conv_in_kernel', 'time_embedding_type', 'time_cond_proj_dim', 'cross_attention_norm', 'dropout', 'timestep_post_act', 'mid_block_type', 'only_cross_attention'} was not found in config. Values will be initialized to default values.\n03/25/2024 02:55:55 - INFO - __main__ - ***** Running training *****\n03/25/2024 02:55:55 - INFO - __main__ -   Num examples = 1395\n03/25/2024 02:55:55 - INFO - __main__ -   Num Epochs = 86\n03/25/2024 02:55:55 - INFO - __main__ -   Instantaneous batch size per device = 4\n03/25/2024 02:55:55 - INFO - __main__ -   Total train batch size (w. parallel, distributed & accumulation) = 8\n03/25/2024 02:55:55 - INFO - __main__ -   Gradient Accumulation steps = 2\n03/25/2024 02:55:55 - INFO - __main__ -   Total optimization steps = 15000\nSteps:   0%|               | 0/15000 [00:01<?, ?it/s, lr=2e-5, step_loss=0.0706]/anaconda/envs/myenv/lib/python3.10/site-packages/transformers/deepspeed.py:23: FutureWarning: transformers.deepspeed module is deprecated and will be removed in a future version. Please import deepspeed modules directly from transformers.integrations\n  warnings.warn(\nSteps: 100%|████| 15000/15000 [3:09:04<00:00,  1.33it/s, lr=0, step_loss=0.0714]\nmodel_index.json: 100%|████████████████████████| 541/541 [00:00<00:00, 4.59MB/s]\u001b[A\nsafety_checker/model.safetensors not found\n\nFetching 9 files:   0%|                                   | 0/9 [00:00<?, ?it/s]\u001b[A\n\n(…)ature_extractor/preprocessor_config.json: 100%|█| 342/342 [00:00<00:00, 2.41M\u001b[A\u001b[A\n\nFetching 9 files:  11%|███                        | 1/9 [00:00<00:00,  8.97it/s]\u001b[A\n\nsafety_checker/config.json: 100%|██████████| 4.56k/4.56k [00:00<00:00, 32.8MB/s]\u001b[A\u001b[A\n\n\nsafety_checker/pytorch_model.bin:   0%|             | 0.00/1.22G [00:00<?, ?B/s]\u001b[A\u001b[A\n\nsafety_checker/pytorch_model.bin:   2%|     | 21.0M/1.22G [00:00<00:07, 158MB/s]\u001b[A\u001b[A\n\nsafety_checker/pytorch_model.bin:   3%|▏   | 41.9M/1.22G [00:00<00:12, 93.3MB/s]\u001b[A\u001b[A\n\nsafety_checker/pytorch_model.bin:   5%|▏   | 62.9M/1.22G [00:00<00:11, 98.4MB/s]\u001b[A\u001b[A\n\nsafety_checker/pytorch_model.bin:   7%|▎   | 83.9M/1.22G [00:00<00:13, 81.7MB/s]\u001b[A\u001b[A\n\nsafety_checker/pytorch_model.bin:   9%|▍    | 105M/1.22G [00:01<00:20, 54.7MB/s]\u001b[A\u001b[A\n\nsafety_checker/pytorch_model.bin:  11%|▌    | 136M/1.22G [00:01<00:14, 72.1MB/s]\u001b[A\u001b[A\n\nsafety_checker/pytorch_model.bin:  13%|▋    | 157M/1.22G [00:02<00:18, 58.6MB/s]\u001b[A\u001b[A\n\nsafety_checker/pytorch_model.bin:  15%|▋    | 178M/1.22G [00:02<00:15, 65.6MB/s]\u001b[A\u001b[A\n\nsafety_checker/pytorch_model.bin:  16%|▊    | 189M/1.22G [00:02<00:16, 61.6MB/s]\u001b[A\u001b[A\n\nsafety_checker/pytorch_model.bin:  17%|▊    | 210M/1.22G [00:02<00:14, 71.7MB/s]\u001b[A\u001b[A\n\nsafety_checker/pytorch_model.bin:  18%|▉    | 220M/1.22G [00:03<00:17, 57.5MB/s]\u001b[A\u001b[A\n\nsafety_checker/pytorch_model.bin:  20%|▉    | 241M/1.22G [00:03<00:14, 68.0MB/s]\u001b[A\u001b[A\n\nsafety_checker/pytorch_model.bin:  21%|█    | 252M/1.22G [00:03<00:14, 65.7MB/s]\u001b[A\u001b[A\n\nsafety_checker/pytorch_model.bin:  22%|█    | 262M/1.22G [00:03<00:16, 57.4MB/s]\u001b[A\u001b[A\n\nsafety_checker/pytorch_model.bin:  22%|█    | 273M/1.22G [00:04<00:15, 60.9MB/s]\u001b[A\u001b[A\n\nsafety_checker/pytorch_model.bin:  24%|█▏   | 294M/1.22G [00:04<00:16, 57.4MB/s]\u001b[A\u001b[A\n\nsafety_checker/pytorch_model.bin:  26%|█▎   | 315M/1.22G [00:05<00:19, 45.7MB/s]\u001b[A\u001b[A\n\nsafety_checker/pytorch_model.bin:  27%|█▎   | 325M/1.22G [00:05<00:17, 51.7MB/s]\u001b[A\u001b[A\n\nsafety_checker/pytorch_model.bin:  28%|█▍   | 346M/1.22G [00:05<00:15, 57.3MB/s]\u001b[A\u001b[A\n\nsafety_checker/pytorch_model.bin:  30%|█▌   | 367M/1.22G [00:05<00:14, 59.8MB/s]\u001b[A\u001b[A\n\nsafety_checker/pytorch_model.bin:  33%|█▋   | 398M/1.22G [00:06<00:11, 72.4MB/s]\u001b[A\u001b[A\n\nsafety_checker/pytorch_model.bin:  34%|█▋   | 419M/1.22G [00:06<00:11, 66.9MB/s]\u001b[A\u001b[A\n\nsafety_checker/pytorch_model.bin:  35%|█▊   | 430M/1.22G [00:06<00:11, 66.4MB/s]\u001b[A\u001b[A\n\nsafety_checker/pytorch_model.bin:  37%|█▊   | 451M/1.22G [00:07<00:11, 65.4MB/s]\u001b[A\u001b[A\n\nsafety_checker/pytorch_model.bin:  39%|█▉   | 472M/1.22G [00:07<00:10, 73.9MB/s]\u001b[A\u001b[A\n\nsafety_checker/pytorch_model.bin:  40%|█▉   | 482M/1.22G [00:07<00:10, 71.2MB/s]\u001b[A\u001b[A\n\nsafety_checker/pytorch_model.bin:  41%|██   | 503M/1.22G [00:07<00:09, 75.5MB/s]\u001b[A\u001b[A\n\nsafety_checker/pytorch_model.bin:  42%|██   | 514M/1.22G [00:07<00:10, 68.1MB/s]\u001b[A\u001b[A\n\nsafety_checker/pytorch_model.bin:  43%|██▏  | 524M/1.22G [00:08<00:10, 65.9MB/s]\u001b[A\u001b[A\n\nsafety_checker/pytorch_model.bin:  44%|██▏  | 535M/1.22G [00:08<00:15, 44.5MB/s]\u001b[A\u001b[A\n\nsafety_checker/pytorch_model.bin:  46%|██▎  | 556M/1.22G [00:08<00:13, 49.4MB/s]\u001b[A\u001b[A\n\nsafety_checker/pytorch_model.bin:  47%|██▎  | 577M/1.22G [00:09<00:13, 46.4MB/s]\u001b[A\u001b[A\n\nsafety_checker/pytorch_model.bin:  50%|██▌  | 608M/1.22G [00:09<00:09, 62.8MB/s]\u001b[A\u001b[A\n\nsafety_checker/pytorch_model.bin:  52%|██▌  | 629M/1.22G [00:10<00:11, 49.9MB/s]\u001b[A\u001b[A\n\nsafety_checker/pytorch_model.bin:  54%|██▋  | 661M/1.22G [00:10<00:09, 56.8MB/s]\u001b[A\u001b[A\n\nsafety_checker/pytorch_model.bin:  56%|██▊  | 682M/1.22G [00:11<00:09, 53.6MB/s]\u001b[A\u001b[A\n\nsafety_checker/pytorch_model.bin:  57%|██▊  | 692M/1.22G [00:11<00:09, 57.5MB/s]\u001b[A\u001b[A\n\nsafety_checker/pytorch_model.bin:  59%|██▉  | 713M/1.22G [00:11<00:08, 60.7MB/s]\u001b[A\u001b[A\n\nsafety_checker/pytorch_model.bin:  60%|███  | 734M/1.22G [00:11<00:08, 56.8MB/s]\u001b[A\u001b[A\n\nsafety_checker/pytorch_model.bin:  61%|███  | 744M/1.22G [00:12<00:07, 60.5MB/s]\u001b[A\u001b[A\n\nsafety_checker/pytorch_model.bin:  63%|███▏ | 765M/1.22G [00:12<00:08, 56.1MB/s]\u001b[A\u001b[A\n\nsafety_checker/pytorch_model.bin:  65%|███▏ | 786M/1.22G [00:12<00:07, 58.6MB/s]\u001b[A\u001b[A\n\nsafety_checker/pytorch_model.bin:  66%|███▎ | 797M/1.22G [00:13<00:07, 57.9MB/s]\u001b[A\u001b[A\n\nsafety_checker/pytorch_model.bin:  67%|███▎ | 818M/1.22G [00:13<00:06, 65.4MB/s]\u001b[A\u001b[A\n\nsafety_checker/pytorch_model.bin:  69%|███▍ | 839M/1.22G [00:13<00:07, 52.0MB/s]\u001b[A\u001b[A\n\nsafety_checker/pytorch_model.bin:  70%|███▍ | 849M/1.22G [00:14<00:07, 50.8MB/s]\u001b[A\u001b[A\n\nsafety_checker/pytorch_model.bin:  72%|███▌ | 870M/1.22G [00:14<00:05, 63.0MB/s]\u001b[A\u001b[A\n\nsafety_checker/pytorch_model.bin:  73%|███▋ | 891M/1.22G [00:14<00:04, 65.3MB/s]\u001b[A\u001b[A\n\nsafety_checker/pytorch_model.bin:  74%|███▋ | 902M/1.22G [00:14<00:06, 49.6MB/s]\u001b[A\u001b[A\n\nsafety_checker/pytorch_model.bin:  76%|███▊ | 923M/1.22G [00:15<00:05, 54.9MB/s]\u001b[A\u001b[A\n\nsafety_checker/pytorch_model.bin:  77%|███▊ | 933M/1.22G [00:15<00:05, 53.4MB/s]\u001b[A\u001b[A\n\nsafety_checker/pytorch_model.bin:  78%|███▉ | 944M/1.22G [00:16<00:07, 34.6MB/s]\u001b[A\u001b[A\n\nsafety_checker/pytorch_model.bin:  78%|███▉ | 954M/1.22G [00:16<00:07, 34.2MB/s]\u001b[A\u001b[A\n\nsafety_checker/pytorch_model.bin:  80%|████ | 975M/1.22G [00:17<00:06, 35.6MB/s]\u001b[A\u001b[A\n\nsafety_checker/pytorch_model.bin:  82%|████ | 996M/1.22G [00:17<00:05, 41.6MB/s]\u001b[A\u001b[A\n\nsafety_checker/pytorch_model.bin:  83%|███▎| 1.01G/1.22G [00:17<00:04, 43.0MB/s]\u001b[A\u001b[A\n\nsafety_checker/pytorch_model.bin:  85%|███▍| 1.03G/1.22G [00:17<00:03, 48.9MB/s]\u001b[A\u001b[A\n\nsafety_checker/pytorch_model.bin:  86%|███▍| 1.05G/1.22G [00:18<00:02, 58.5MB/s]\u001b[A\u001b[A\n\nsafety_checker/pytorch_model.bin:  87%|███▍| 1.06G/1.22G [00:18<00:02, 62.4MB/s]\u001b[A\u001b[A\n\nsafety_checker/pytorch_model.bin:  89%|███▌| 1.08G/1.22G [00:18<00:02, 62.8MB/s]\u001b[A\u001b[A\n\nsafety_checker/pytorch_model.bin:  91%|███▌| 1.10G/1.22G [00:18<00:01, 65.8MB/s]\u001b[A\u001b[A\n\nsafety_checker/pytorch_model.bin:  91%|███▋| 1.11G/1.22G [00:19<00:01, 62.5MB/s]\u001b[A\u001b[A\n\nsafety_checker/pytorch_model.bin:  93%|███▋| 1.13G/1.22G [00:19<00:01, 69.6MB/s]\u001b[A\u001b[A\n\nsafety_checker/pytorch_model.bin:  94%|███▊| 1.14G/1.22G [00:19<00:01, 65.9MB/s]\u001b[A\u001b[A\n\nsafety_checker/pytorch_model.bin:  95%|███▊| 1.15G/1.22G [00:19<00:01, 61.3MB/s]\u001b[A\u001b[A\n\nsafety_checker/pytorch_model.bin:  97%|███▊| 1.17G/1.22G [00:19<00:00, 83.0MB/s]\u001b[A\u001b[A\n\nsafety_checker/pytorch_model.bin:  97%|███▉| 1.18G/1.22G [00:20<00:00, 60.8MB/s]\u001b[A\u001b[A\n\nsafety_checker/pytorch_model.bin:  99%|███▉| 1.21G/1.22G [00:20<00:00, 61.9MB/s]\u001b[A\u001b[A\n\nsafety_checker/pytorch_model.bin: 100%|████| 1.22G/1.22G [00:20<00:00, 58.7MB/s]\u001b[A\u001b[A\n\nFetching 9 files: 100%|███████████████████████████| 9/9 [00:21<00:00,  2.34s/it]\u001b[A\n{'image_encoder', 'requires_safety_checker'} was not found in config. Values will be initialized to default values.\n\nLoading pipeline components...:   0%|                     | 0/7 [00:00<?, ?it/s]\u001b[A{'prediction_type', 'timestep_spacing'} was not found in config. Values will be initialized to default values.\nLoaded scheduler as PNDMScheduler from `scheduler` subfolder of CompVis/stable-diffusion-v1-2.\nLoaded feature_extractor as CLIPImageProcessor from `feature_extractor` subfolder of CompVis/stable-diffusion-v1-2.\nLoaded safety_checker as StableDiffusionSafetyChecker from `safety_checker` subfolder of CompVis/stable-diffusion-v1-2.\n\nLoading pipeline components...:  71%|█████████▎   | 5/7 [00:00<00:00, 22.74it/s]\u001b[ALoaded tokenizer as CLIPTokenizer from `tokenizer` subfolder of CompVis/stable-diffusion-v1-2.\nLoading pipeline components...: 100%|█████████████| 7/7 [00:00<00:00, 27.49it/s]\nConfiguration saved in newmodel/vae/config.json\nModel weights saved in newmodel/vae/diffusion_pytorch_model.safetensors\nConfiguration saved in newmodel/unet/config.json\nModel weights saved in newmodel/unet/diffusion_pytorch_model.safetensors\nConfiguration saved in newmodel/scheduler/scheduler_config.json\nConfiguration saved in newmodel/model_index.json\nTraceback (most recent call last):\n  File \"/mnt/batch/tasks/shared/LS_root/mounts/clusters/bkathuri1/code/Users/bkathuri/diffusers/examples/text_to_image/train_text_to_image.py\", line 1087, in <module>\n    main()\n  File \"/mnt/batch/tasks/shared/LS_root/mounts/clusters/bkathuri1/code/Users/bkathuri/diffusers/examples/text_to_image/train_text_to_image.py\", line 1075, in main\n    save_model_card(args, repo_id, images, repo_folder=args.output_dir)\n  File \"/mnt/batch/tasks/shared/LS_root/mounts/clusters/bkathuri1/code/Users/bkathuri/diffusers/examples/text_to_image/train_text_to_image.py\", line 95, in save_model_card\n    prompt = \"{args.validation_prompts[0]}\"\nTypeError: 'NoneType' object is not subscriptable\nSteps: 100%|████| 15000/15000 [3:10:06<00:00,  1.32it/s, lr=0, step_loss=0.0714]\nTraceback (most recent call last):\n  File \"/anaconda/envs/myenv/bin/accelerate\", line 8, in <module>\n    sys.exit(main())\n  File \"/anaconda/envs/myenv/lib/python3.10/site-packages/accelerate/commands/accelerate_cli.py\", line 46, in main\n    args.func(args)\n  File \"/anaconda/envs/myenv/lib/python3.10/site-packages/accelerate/commands/launch.py\", line 1057, in launch_command\n    simple_launcher(args)\n  File \"/anaconda/envs/myenv/lib/python3.10/site-packages/accelerate/commands/launch.py\", line 673, in simple_launcher\n    raise subprocess.CalledProcessError(returncode=process.returncode, cmd=cmd)\nsubprocess.CalledProcessError: Command '['/anaconda/envs/myenv/bin/python', 'diffusers/examples/text_to_image/train_text_to_image.py', '--pretrained_model_name_or_path=CompVis/stable-diffusion-v1-2', '--dataset_name=kbharat7/DogChestXrayDatasetNew', '--use_ema', '--resolution=512', '--center_crop', '--random_flip', '--train_batch_size=4', '--gradient_accumulation_steps=2', '--gradient_checkpointing', '--mixed_precision=fp16', '--max_train_steps=15000', '--learning_rate=2e-05', '--max_grad_norm=1', '--push_to_hub', '--checkpointing_steps=100000', '--lr_scheduler=cosine', '--lr_warmup_steps=0', '--output_dir=newmodel']' returned non-zero exit status 1.\n"
        }
      ],
      "execution_count": 22,
      "metadata": {
        "jupyter": {
          "source_hidden": false,
          "outputs_hidden": false
        },
        "nteract": {
          "transient": {
            "deleting": false
          }
        }
      }
    },
    {
      "cell_type": "code",
      "source": [
        "from azure.storage.blob import BlobServiceClient, BlobClient, ContainerClient\n",
        "import os"
      ],
      "outputs": [],
      "execution_count": 24,
      "metadata": {
        "jupyter": {
          "source_hidden": false,
          "outputs_hidden": false
        },
        "nteract": {
          "transient": {
            "deleting": false
          }
        },
        "gather": {
          "logged": 1711347290573
        }
      }
    },
    {
      "cell_type": "code",
      "source": [
        "connect_str = '' # Replace 'your_connection_string' with your actual connection string\n",
        "blob_service_client = BlobServiceClient.from_connection_string(connect_str)\n",
        "container_name = 'imagegeneration' # Replace 'your_container_name' with your actual container name\n"
      ],
      "outputs": [],
      "execution_count": 28,
      "metadata": {
        "jupyter": {
          "source_hidden": false,
          "outputs_hidden": false
        },
        "nteract": {
          "transient": {
            "deleting": false
          }
        },
        "gather": {
          "logged": 1711347643758
        }
      }
    },
    {
      "cell_type": "code",
      "source": [
        "local_path = \"newmodel\" # Replace 'your_local_folder' with your folder path"
      ],
      "outputs": [],
      "execution_count": 29,
      "metadata": {
        "jupyter": {
          "source_hidden": false,
          "outputs_hidden": false
        },
        "nteract": {
          "transient": {
            "deleting": false
          }
        },
        "gather": {
          "logged": 1711347646503
        }
      }
    },
    {
      "cell_type": "code",
      "source": [
        "def upload_directory_to_blob(local_directory, container_name):\n",
        "    \"\"\"\n",
        "    Uploads a directory to a specified Azure Blob Storage container.\n",
        "    \"\"\"\n",
        "    container_client = blob_service_client.get_container_client(container_name)\n",
        "    for root, dirs, files in os.walk(local_directory):\n",
        "        for name in files:\n",
        "            file_path = os.path.join(root, name)\n",
        "            blob_path = os.path.relpath(file_path, local_directory)\n",
        "            blob_client = container_client.get_blob_client(blob_path)\n",
        "            with open(file_path, \"rb\") as data:\n",
        "                blob_client.upload_blob(data)\n",
        "                print(f\"Uploaded {file_path} to blob storage\")\n",
        "\n",
        "# Execute the upload\n",
        "upload_directory_to_blob(local_path, container_name)\n"
      ],
      "outputs": [
        {
          "output_type": "stream",
          "name": "stdout",
          "text": "Uploaded newmodel/model_index.json to blob storage\nUploaded newmodel/feature_extractor/preprocessor_config.json to blob storage\nUploaded newmodel/logs/text2image-fine-tune/events.out.tfevents.1711335355.bkathuri1.15291.0 to blob storage\nUploaded newmodel/logs/text2image-fine-tune/1711335355.5310752/events.out.tfevents.1711335355.bkathuri1.15291.1 to blob storage\nUploaded newmodel/logs/text2image-fine-tune/1711335355.6599011/hparams.yml to blob storage\nUploaded newmodel/safety_checker/config.json to blob storage\nUploaded newmodel/safety_checker/model.safetensors to blob storage\nUploaded newmodel/scheduler/scheduler_config.json to blob storage\nUploaded newmodel/text_encoder/config.json to blob storage\nUploaded newmodel/text_encoder/model.safetensors to blob storage\nUploaded newmodel/tokenizer/merges.txt to blob storage\nUploaded newmodel/tokenizer/special_tokens_map.json to blob storage\nUploaded newmodel/tokenizer/tokenizer_config.json to blob storage\nUploaded newmodel/tokenizer/vocab.json to blob storage\nUploaded newmodel/unet/config.json to blob storage\nUploaded newmodel/unet/diffusion_pytorch_model.safetensors to blob storage\nUploaded newmodel/vae/config.json to blob storage\nUploaded newmodel/vae/diffusion_pytorch_model.safetensors to blob storage\n"
        }
      ],
      "execution_count": 30,
      "metadata": {
        "jupyter": {
          "source_hidden": false,
          "outputs_hidden": false
        },
        "nteract": {
          "transient": {
            "deleting": false
          }
        },
        "gather": {
          "logged": 1711347858374
        }
      }
    },
    {
      "cell_type": "code",
      "source": [
        "# Stable Diffusion V1\n",
        "from diffusers import StableDiffusionPipeline\n",
        "import torch\n",
        "from PIL import Image"
      ],
      "outputs": [],
      "execution_count": 31,
      "metadata": {
        "jupyter": {
          "source_hidden": false,
          "outputs_hidden": false
        },
        "nteract": {
          "transient": {
            "deleting": false
          }
        },
        "gather": {
          "logged": 1711348239217
        }
      }
    },
    {
      "cell_type": "code",
      "source": [
        "model_path = \"newmodel\""
      ],
      "outputs": [],
      "execution_count": 32,
      "metadata": {
        "jupyter": {
          "source_hidden": false,
          "outputs_hidden": false
        },
        "nteract": {
          "transient": {
            "deleting": false
          }
        },
        "gather": {
          "logged": 1711348294169
        }
      }
    },
    {
      "cell_type": "code",
      "source": [
        "pipe = StableDiffusionPipeline.from_pretrained(model_path, torch_dtype=torch.float16)\n",
        "pipe.to(\"cuda\")"
      ],
      "outputs": [
        {
          "output_type": "stream",
          "name": "stderr",
          "text": "Loading pipeline components...: 100%|██████████| 7/7 [01:07<00:00,  9.63s/it]\n"
        },
        {
          "output_type": "execute_result",
          "execution_count": 33,
          "data": {
            "text/plain": "StableDiffusionPipeline {\n  \"_class_name\": \"StableDiffusionPipeline\",\n  \"_diffusers_version\": \"0.28.0.dev0\",\n  \"_name_or_path\": \"newmodel\",\n  \"feature_extractor\": [\n    \"transformers\",\n    \"CLIPImageProcessor\"\n  ],\n  \"image_encoder\": [\n    null,\n    null\n  ],\n  \"requires_safety_checker\": true,\n  \"safety_checker\": [\n    \"stable_diffusion\",\n    \"StableDiffusionSafetyChecker\"\n  ],\n  \"scheduler\": [\n    \"diffusers\",\n    \"PNDMScheduler\"\n  ],\n  \"text_encoder\": [\n    \"transformers\",\n    \"CLIPTextModel\"\n  ],\n  \"tokenizer\": [\n    \"transformers\",\n    \"CLIPTokenizer\"\n  ],\n  \"unet\": [\n    \"diffusers\",\n    \"UNet2DConditionModel\"\n  ],\n  \"vae\": [\n    \"diffusers\",\n    \"AutoencoderKL\"\n  ]\n}"
          },
          "metadata": {}
        }
      ],
      "execution_count": 33,
      "metadata": {
        "jupyter": {
          "source_hidden": false,
          "outputs_hidden": false
        },
        "nteract": {
          "transient": {
            "deleting": false
          }
        },
        "gather": {
          "logged": 1711348382179
        }
      }
    },
    {
      "cell_type": "code",
      "source": [
        "image1 = pipe(prompt=\"photo of dogxraysmall\").images[0]\n",
        "image1.save(\"ProductSnapAI_panel_1.png\")"
      ],
      "outputs": [
        {
          "output_type": "stream",
          "name": "stderr",
          "text": "100%|██████████| 50/50 [00:01<00:00, 33.44it/s]\n"
        }
      ],
      "execution_count": 37,
      "metadata": {
        "jupyter": {
          "source_hidden": false,
          "outputs_hidden": false
        },
        "nteract": {
          "transient": {
            "deleting": false
          }
        },
        "gather": {
          "logged": 1711348834519
        }
      }
    },
    {
      "cell_type": "code",
      "source": [
        "from azure.storage.blob import BlobServiceClient, BlobClient, ContainerClient\n",
        "import os"
      ],
      "outputs": [],
      "execution_count": 38,
      "metadata": {
        "jupyter": {
          "source_hidden": false,
          "outputs_hidden": false
        },
        "nteract": {
          "transient": {
            "deleting": false
          }
        },
        "gather": {
          "logged": 1711349491349
        }
      }
    },
    {
      "cell_type": "code",
      "source": [
        "# Initialize a connection to the Azure blob storage\n",
        "connect_str = '' # Replace 'your_connection_string' with your actual connection string\n",
        "container_name = 'imagegeneration'\n",
        "blob_service_client = BlobServiceClient.from_connection_string(connect_str)\n",
        "container_client = blob_service_client.get_container_client(container_name)"
      ],
      "outputs": [],
      "execution_count": 39,
      "metadata": {
        "jupyter": {
          "source_hidden": false,
          "outputs_hidden": false
        },
        "nteract": {
          "transient": {
            "deleting": false
          }
        },
        "gather": {
          "logged": 1711349724875
        }
      }
    },
    {
      "cell_type": "code",
      "source": [
        "folder_name = 'Large/'"
      ],
      "outputs": [],
      "execution_count": 45,
      "metadata": {
        "jupyter": {
          "source_hidden": false,
          "outputs_hidden": false
        },
        "nteract": {
          "transient": {
            "deleting": false
          }
        },
        "gather": {
          "logged": 1711352515525
        }
      }
    },
    {
      "cell_type": "code",
      "source": [
        "# Your function to generate images\n",
        "def generate_and_upload_images(num_images):\n",
        "    for i in range(num_images):\n",
        "        # Replace 'pipe' with the actual code to generate your image.\n",
        "        # The following line is just a placeholder for the image generation process.\n",
        "        image = pipe(prompt=\"photo of dogxraylarge\").images[0]  # This line should be replaced with your image generation code\n",
        "\n",
        "        # Save the image temporarily. You might need to save it directly if your library supports it.\n",
        "        file_name = f\"large_{i}.png\"\n",
        "        temp_path = os.path.join('Temp', file_name)  # Temporary path in your local environment\n",
        "        image.save(temp_path)\n",
        "\n",
        "        # Create a blob client for the image\n",
        "        blob_client = container_client.get_blob_client(blob=folder_name + file_name)\n",
        "\n",
        "        # Upload the image to Azure Blob Storage\n",
        "        with open(temp_path, \"rb\") as data:\n",
        "            blob_client.upload_blob(data)\n",
        "\n",
        "        # Optionally, delete the local file after upload if you want to save space\n",
        "        os.remove(temp_path)\n",
        "\n",
        "# Run the image generation and uploading process\n",
        "generate_and_upload_images(500)"
      ],
      "outputs": [
        {
          "output_type": "stream",
          "name": "stderr",
          "text": "100%|██████████| 50/50 [00:01<00:00, 34.03it/s]\n100%|██████████| 50/50 [00:01<00:00, 33.92it/s]\n100%|██████████| 50/50 [00:01<00:00, 34.16it/s]\n100%|██████████| 50/50 [00:01<00:00, 34.14it/s]\n100%|██████████| 50/50 [00:01<00:00, 34.16it/s]\n100%|██████████| 50/50 [00:01<00:00, 33.84it/s]\n100%|██████████| 50/50 [00:01<00:00, 34.14it/s]\n100%|██████████| 50/50 [00:01<00:00, 34.05it/s]\n100%|██████████| 50/50 [00:01<00:00, 33.95it/s]\n100%|██████████| 50/50 [00:01<00:00, 34.14it/s]\n100%|██████████| 50/50 [00:01<00:00, 33.91it/s]\n100%|██████████| 50/50 [00:01<00:00, 33.96it/s]\n100%|██████████| 50/50 [00:01<00:00, 34.11it/s]\n100%|██████████| 50/50 [00:01<00:00, 34.02it/s]\n100%|██████████| 50/50 [00:01<00:00, 33.67it/s]\n100%|██████████| 50/50 [00:01<00:00, 34.02it/s]\n100%|██████████| 50/50 [00:01<00:00, 34.06it/s]\n100%|██████████| 50/50 [00:01<00:00, 33.98it/s]\n100%|██████████| 50/50 [00:01<00:00, 33.92it/s]\n100%|██████████| 50/50 [00:01<00:00, 34.01it/s]\n100%|██████████| 50/50 [00:01<00:00, 33.92it/s]\n100%|██████████| 50/50 [00:01<00:00, 34.10it/s]\n100%|██████████| 50/50 [00:01<00:00, 34.04it/s]\n100%|██████████| 50/50 [00:01<00:00, 34.17it/s]\n100%|██████████| 50/50 [00:01<00:00, 33.94it/s]\n100%|██████████| 50/50 [00:01<00:00, 34.13it/s]\n100%|██████████| 50/50 [00:01<00:00, 34.05it/s]\n100%|██████████| 50/50 [00:01<00:00, 34.04it/s]\n100%|██████████| 50/50 [00:01<00:00, 34.11it/s]\n100%|██████████| 50/50 [00:01<00:00, 34.17it/s]\n100%|██████████| 50/50 [00:01<00:00, 34.06it/s]\n100%|██████████| 50/50 [00:01<00:00, 34.11it/s]\n100%|██████████| 50/50 [00:01<00:00, 34.19it/s]\n100%|██████████| 50/50 [00:01<00:00, 34.09it/s]\n100%|██████████| 50/50 [00:01<00:00, 33.97it/s]\n100%|██████████| 50/50 [00:01<00:00, 34.14it/s]\n100%|██████████| 50/50 [00:01<00:00, 34.07it/s]\n100%|██████████| 50/50 [00:01<00:00, 34.14it/s]\n100%|██████████| 50/50 [00:01<00:00, 34.00it/s]\n100%|██████████| 50/50 [00:01<00:00, 34.09it/s]\n100%|██████████| 50/50 [00:01<00:00, 33.99it/s]\n100%|██████████| 50/50 [00:01<00:00, 34.08it/s]\n100%|██████████| 50/50 [00:01<00:00, 34.19it/s]\n100%|██████████| 50/50 [00:01<00:00, 34.11it/s]\n100%|██████████| 50/50 [00:01<00:00, 34.02it/s]\n100%|██████████| 50/50 [00:01<00:00, 34.16it/s]\n100%|██████████| 50/50 [00:01<00:00, 34.20it/s]\n100%|██████████| 50/50 [00:01<00:00, 34.04it/s]\n100%|██████████| 50/50 [00:01<00:00, 33.93it/s]\n100%|██████████| 50/50 [00:01<00:00, 34.21it/s]\n100%|██████████| 50/50 [00:01<00:00, 34.05it/s]\n100%|██████████| 50/50 [00:01<00:00, 34.09it/s]\n100%|██████████| 50/50 [00:01<00:00, 34.08it/s]\n100%|██████████| 50/50 [00:01<00:00, 34.05it/s]\n100%|██████████| 50/50 [00:01<00:00, 34.17it/s]\n100%|██████████| 50/50 [00:01<00:00, 34.03it/s]\n100%|██████████| 50/50 [00:01<00:00, 34.13it/s]\n100%|██████████| 50/50 [00:01<00:00, 33.70it/s]\n100%|██████████| 50/50 [00:01<00:00, 33.71it/s]\n100%|██████████| 50/50 [00:01<00:00, 33.97it/s]\n100%|██████████| 50/50 [00:01<00:00, 34.00it/s]\n100%|██████████| 50/50 [00:01<00:00, 33.91it/s]\n100%|██████████| 50/50 [00:01<00:00, 34.08it/s]\n100%|██████████| 50/50 [00:01<00:00, 33.94it/s]\n100%|██████████| 50/50 [00:01<00:00, 34.14it/s]\n100%|██████████| 50/50 [00:01<00:00, 34.15it/s]\n100%|██████████| 50/50 [00:01<00:00, 33.87it/s]\n100%|██████████| 50/50 [00:01<00:00, 33.76it/s]\n100%|██████████| 50/50 [00:01<00:00, 34.12it/s]\n100%|██████████| 50/50 [00:01<00:00, 34.08it/s]\n100%|██████████| 50/50 [00:01<00:00, 34.12it/s]\n100%|██████████| 50/50 [00:01<00:00, 34.05it/s]\n100%|██████████| 50/50 [00:01<00:00, 34.02it/s]\n100%|██████████| 50/50 [00:01<00:00, 33.99it/s]\n100%|██████████| 50/50 [00:01<00:00, 33.83it/s]\n100%|██████████| 50/50 [00:01<00:00, 34.05it/s]\n100%|██████████| 50/50 [00:01<00:00, 33.62it/s]\n100%|██████████| 50/50 [00:01<00:00, 33.98it/s]\n100%|██████████| 50/50 [00:01<00:00, 34.02it/s]\n100%|██████████| 50/50 [00:01<00:00, 33.92it/s]\n100%|██████████| 50/50 [00:01<00:00, 34.07it/s]\n100%|██████████| 50/50 [00:01<00:00, 34.08it/s]\n100%|██████████| 50/50 [00:01<00:00, 33.97it/s]\n100%|██████████| 50/50 [00:01<00:00, 33.93it/s]\n100%|██████████| 50/50 [00:01<00:00, 33.99it/s]\n100%|██████████| 50/50 [00:01<00:00, 34.04it/s]\n100%|██████████| 50/50 [00:01<00:00, 34.02it/s]\n100%|██████████| 50/50 [00:01<00:00, 34.00it/s]\n100%|██████████| 50/50 [00:01<00:00, 33.99it/s]\n100%|██████████| 50/50 [00:01<00:00, 33.97it/s]\n100%|██████████| 50/50 [00:01<00:00, 34.00it/s]\n100%|██████████| 50/50 [00:01<00:00, 33.96it/s]\n100%|██████████| 50/50 [00:01<00:00, 33.96it/s]\n100%|██████████| 50/50 [00:01<00:00, 34.02it/s]\n100%|██████████| 50/50 [00:01<00:00, 33.97it/s]\n100%|██████████| 50/50 [00:01<00:00, 33.81it/s]\n100%|██████████| 50/50 [00:01<00:00, 34.05it/s]\n100%|██████████| 50/50 [00:01<00:00, 33.95it/s]\n100%|██████████| 50/50 [00:01<00:00, 33.99it/s]\n100%|██████████| 50/50 [00:01<00:00, 33.77it/s]\n100%|██████████| 50/50 [00:01<00:00, 33.57it/s]\n100%|██████████| 50/50 [00:01<00:00, 33.90it/s]\n100%|██████████| 50/50 [00:01<00:00, 33.75it/s]\n100%|██████████| 50/50 [00:01<00:00, 33.88it/s]\n100%|██████████| 50/50 [00:01<00:00, 33.85it/s]\n100%|██████████| 50/50 [00:01<00:00, 33.85it/s]\n100%|██████████| 50/50 [00:01<00:00, 33.63it/s]\n100%|██████████| 50/50 [00:01<00:00, 33.68it/s]\n100%|██████████| 50/50 [00:01<00:00, 33.78it/s]\n100%|██████████| 50/50 [00:01<00:00, 33.81it/s]\n100%|██████████| 50/50 [00:01<00:00, 33.71it/s]\n100%|██████████| 50/50 [00:01<00:00, 33.94it/s]\n100%|██████████| 50/50 [00:01<00:00, 33.93it/s]\n100%|██████████| 50/50 [00:01<00:00, 33.90it/s]\n100%|██████████| 50/50 [00:01<00:00, 33.80it/s]\n100%|██████████| 50/50 [00:01<00:00, 33.94it/s]\n100%|██████████| 50/50 [00:01<00:00, 33.80it/s]\n100%|██████████| 50/50 [00:01<00:00, 33.84it/s]\n100%|██████████| 50/50 [00:01<00:00, 33.98it/s]\n100%|██████████| 50/50 [00:01<00:00, 33.96it/s]\n100%|██████████| 50/50 [00:01<00:00, 33.93it/s]\n100%|██████████| 50/50 [00:01<00:00, 34.06it/s]\n100%|██████████| 50/50 [00:01<00:00, 33.74it/s]\n100%|██████████| 50/50 [00:01<00:00, 34.05it/s]\n100%|██████████| 50/50 [00:01<00:00, 33.99it/s]\n100%|██████████| 50/50 [00:01<00:00, 33.91it/s]\n100%|██████████| 50/50 [00:01<00:00, 33.97it/s]\n100%|██████████| 50/50 [00:01<00:00, 34.08it/s]\n100%|██████████| 50/50 [00:01<00:00, 34.01it/s]\n100%|██████████| 50/50 [00:01<00:00, 33.98it/s]\n100%|██████████| 50/50 [00:01<00:00, 33.97it/s]\n100%|██████████| 50/50 [00:01<00:00, 33.93it/s]\n100%|██████████| 50/50 [00:01<00:00, 34.02it/s]\n100%|██████████| 50/50 [00:01<00:00, 33.89it/s]\n100%|██████████| 50/50 [00:01<00:00, 33.97it/s]\n100%|██████████| 50/50 [00:01<00:00, 34.02it/s]\n100%|██████████| 50/50 [00:01<00:00, 34.03it/s]\n100%|██████████| 50/50 [00:01<00:00, 33.92it/s]\n100%|██████████| 50/50 [00:01<00:00, 34.02it/s]\n100%|██████████| 50/50 [00:01<00:00, 34.02it/s]\n100%|██████████| 50/50 [00:01<00:00, 33.92it/s]\n100%|██████████| 50/50 [00:01<00:00, 33.96it/s]\n100%|██████████| 50/50 [00:01<00:00, 33.97it/s]\n100%|██████████| 50/50 [00:01<00:00, 33.72it/s]\n100%|██████████| 50/50 [00:01<00:00, 34.01it/s]\n100%|██████████| 50/50 [00:01<00:00, 33.70it/s]\n100%|██████████| 50/50 [00:01<00:00, 33.98it/s]\n100%|██████████| 50/50 [00:01<00:00, 33.97it/s]\n100%|██████████| 50/50 [00:01<00:00, 33.86it/s]\n100%|██████████| 50/50 [00:01<00:00, 34.04it/s]\n100%|██████████| 50/50 [00:01<00:00, 33.92it/s]\n100%|██████████| 50/50 [00:01<00:00, 33.96it/s]\n100%|██████████| 50/50 [00:01<00:00, 34.03it/s]\n100%|██████████| 50/50 [00:01<00:00, 34.00it/s]\n100%|██████████| 50/50 [00:01<00:00, 33.96it/s]\n100%|██████████| 50/50 [00:01<00:00, 33.91it/s]\n100%|██████████| 50/50 [00:01<00:00, 33.96it/s]\n100%|██████████| 50/50 [00:01<00:00, 33.94it/s]\n100%|██████████| 50/50 [00:01<00:00, 34.01it/s]\n100%|██████████| 50/50 [00:01<00:00, 33.88it/s]\n100%|██████████| 50/50 [00:01<00:00, 34.01it/s]\n100%|██████████| 50/50 [00:01<00:00, 33.99it/s]\n100%|██████████| 50/50 [00:01<00:00, 33.99it/s]\n100%|██████████| 50/50 [00:01<00:00, 34.01it/s]\n100%|██████████| 50/50 [00:01<00:00, 34.03it/s]\n100%|██████████| 50/50 [00:01<00:00, 33.99it/s]\n100%|██████████| 50/50 [00:01<00:00, 33.91it/s]\n100%|██████████| 50/50 [00:01<00:00, 34.00it/s]\n100%|██████████| 50/50 [00:01<00:00, 34.01it/s]\n100%|██████████| 50/50 [00:01<00:00, 34.07it/s]\n100%|██████████| 50/50 [00:01<00:00, 33.83it/s]\n100%|██████████| 50/50 [00:01<00:00, 33.94it/s]\n100%|██████████| 50/50 [00:01<00:00, 33.88it/s]\n100%|██████████| 50/50 [00:01<00:00, 33.90it/s]\n100%|██████████| 50/50 [00:01<00:00, 33.81it/s]\n100%|██████████| 50/50 [00:01<00:00, 33.79it/s]\n100%|██████████| 50/50 [00:01<00:00, 33.65it/s]\n100%|██████████| 50/50 [00:01<00:00, 33.74it/s]\n100%|██████████| 50/50 [00:01<00:00, 33.63it/s]\n100%|██████████| 50/50 [00:01<00:00, 33.70it/s]\n100%|██████████| 50/50 [00:01<00:00, 33.79it/s]\n100%|██████████| 50/50 [00:01<00:00, 33.76it/s]\n100%|██████████| 50/50 [00:01<00:00, 33.83it/s]\n100%|██████████| 50/50 [00:01<00:00, 33.73it/s]\n100%|██████████| 50/50 [00:01<00:00, 33.84it/s]\n100%|██████████| 50/50 [00:01<00:00, 33.87it/s]\n100%|██████████| 50/50 [00:01<00:00, 33.74it/s]\n100%|██████████| 50/50 [00:01<00:00, 33.73it/s]\n100%|██████████| 50/50 [00:01<00:00, 33.37it/s]\n100%|██████████| 50/50 [00:01<00:00, 33.90it/s]\n100%|██████████| 50/50 [00:01<00:00, 33.70it/s]\n100%|██████████| 50/50 [00:01<00:00, 33.82it/s]\n100%|██████████| 50/50 [00:01<00:00, 33.74it/s]\n100%|██████████| 50/50 [00:01<00:00, 33.79it/s]\n100%|██████████| 50/50 [00:01<00:00, 33.78it/s]\n100%|██████████| 50/50 [00:01<00:00, 33.77it/s]\n100%|██████████| 50/50 [00:01<00:00, 33.74it/s]\n100%|██████████| 50/50 [00:01<00:00, 33.86it/s]\n100%|██████████| 50/50 [00:01<00:00, 33.64it/s]\n100%|██████████| 50/50 [00:01<00:00, 33.64it/s]\n100%|██████████| 50/50 [00:01<00:00, 33.79it/s]\n100%|██████████| 50/50 [00:01<00:00, 33.84it/s]\n100%|██████████| 50/50 [00:01<00:00, 33.89it/s]\n100%|██████████| 50/50 [00:01<00:00, 33.64it/s]\n100%|██████████| 50/50 [00:01<00:00, 33.69it/s]\n100%|██████████| 50/50 [00:01<00:00, 33.82it/s]\n100%|██████████| 50/50 [00:01<00:00, 33.73it/s]\n100%|██████████| 50/50 [00:01<00:00, 33.78it/s]\n100%|██████████| 50/50 [00:01<00:00, 33.38it/s]\n100%|██████████| 50/50 [00:01<00:00, 33.72it/s]\n100%|██████████| 50/50 [00:01<00:00, 33.82it/s]\n100%|██████████| 50/50 [00:01<00:00, 33.84it/s]\n100%|██████████| 50/50 [00:01<00:00, 33.79it/s]\n100%|██████████| 50/50 [00:01<00:00, 33.79it/s]\n100%|██████████| 50/50 [00:01<00:00, 33.68it/s]\n100%|██████████| 50/50 [00:01<00:00, 33.66it/s]\n100%|██████████| 50/50 [00:01<00:00, 33.85it/s]\n100%|██████████| 50/50 [00:01<00:00, 33.68it/s]\n100%|██████████| 50/50 [00:01<00:00, 33.78it/s]\n100%|██████████| 50/50 [00:01<00:00, 33.86it/s]\n100%|██████████| 50/50 [00:01<00:00, 33.81it/s]\n100%|██████████| 50/50 [00:01<00:00, 33.71it/s]\n100%|██████████| 50/50 [00:01<00:00, 33.78it/s]\n100%|██████████| 50/50 [00:01<00:00, 33.71it/s]\n100%|██████████| 50/50 [00:01<00:00, 33.81it/s]\n100%|██████████| 50/50 [00:01<00:00, 33.61it/s]\n100%|██████████| 50/50 [00:01<00:00, 33.66it/s]\n100%|██████████| 50/50 [00:01<00:00, 33.87it/s]\n100%|██████████| 50/50 [00:01<00:00, 33.81it/s]\n100%|██████████| 50/50 [00:01<00:00, 33.73it/s]\n100%|██████████| 50/50 [00:01<00:00, 33.81it/s]\n100%|██████████| 50/50 [00:01<00:00, 33.64it/s]\n100%|██████████| 50/50 [00:01<00:00, 33.79it/s]\n100%|██████████| 50/50 [00:01<00:00, 33.63it/s]\n100%|██████████| 50/50 [00:01<00:00, 33.64it/s]\n100%|██████████| 50/50 [00:01<00:00, 33.80it/s]\n100%|██████████| 50/50 [00:01<00:00, 33.87it/s]\n100%|██████████| 50/50 [00:01<00:00, 33.71it/s]\n100%|██████████| 50/50 [00:01<00:00, 33.55it/s]\n100%|██████████| 50/50 [00:01<00:00, 33.78it/s]\n100%|██████████| 50/50 [00:01<00:00, 33.75it/s]\n100%|██████████| 50/50 [00:01<00:00, 33.78it/s]\n100%|██████████| 50/50 [00:01<00:00, 33.77it/s]\n100%|██████████| 50/50 [00:01<00:00, 33.74it/s]\n100%|██████████| 50/50 [00:01<00:00, 33.86it/s]\n100%|██████████| 50/50 [00:01<00:00, 33.66it/s]\n100%|██████████| 50/50 [00:01<00:00, 33.74it/s]\n100%|██████████| 50/50 [00:01<00:00, 33.76it/s]\n100%|██████████| 50/50 [00:01<00:00, 33.69it/s]\n100%|██████████| 50/50 [00:01<00:00, 34.00it/s]\n100%|██████████| 50/50 [00:01<00:00, 33.95it/s]\n100%|██████████| 50/50 [00:01<00:00, 33.99it/s]\n100%|██████████| 50/50 [00:01<00:00, 33.99it/s]\n100%|██████████| 50/50 [00:01<00:00, 33.81it/s]\n100%|██████████| 50/50 [00:01<00:00, 33.69it/s]\n100%|██████████| 50/50 [00:01<00:00, 34.01it/s]\n100%|██████████| 50/50 [00:01<00:00, 33.99it/s]\n100%|██████████| 50/50 [00:01<00:00, 33.88it/s]\n100%|██████████| 50/50 [00:01<00:00, 33.96it/s]\n100%|██████████| 50/50 [00:01<00:00, 33.98it/s]\n100%|██████████| 50/50 [00:01<00:00, 33.91it/s]\n100%|██████████| 50/50 [00:01<00:00, 33.80it/s]\n100%|██████████| 50/50 [00:01<00:00, 33.74it/s]\n100%|██████████| 50/50 [00:01<00:00, 33.82it/s]\n100%|██████████| 50/50 [00:01<00:00, 33.81it/s]\n100%|██████████| 50/50 [00:01<00:00, 33.75it/s]\n100%|██████████| 50/50 [00:01<00:00, 33.97it/s]\n100%|██████████| 50/50 [00:01<00:00, 34.00it/s]\n100%|██████████| 50/50 [00:01<00:00, 33.92it/s]\n100%|██████████| 50/50 [00:01<00:00, 33.97it/s]\n100%|██████████| 50/50 [00:01<00:00, 33.87it/s]\n100%|██████████| 50/50 [00:01<00:00, 33.90it/s]\n100%|██████████| 50/50 [00:01<00:00, 33.95it/s]\n100%|██████████| 50/50 [00:01<00:00, 33.94it/s]\n100%|██████████| 50/50 [00:01<00:00, 34.03it/s]\n100%|██████████| 50/50 [00:01<00:00, 33.97it/s]\n100%|██████████| 50/50 [00:01<00:00, 33.95it/s]\n100%|██████████| 50/50 [00:01<00:00, 34.00it/s]\n100%|██████████| 50/50 [00:01<00:00, 33.98it/s]\n100%|██████████| 50/50 [00:01<00:00, 33.73it/s]\n100%|██████████| 50/50 [00:01<00:00, 33.87it/s]\n100%|██████████| 50/50 [00:01<00:00, 33.71it/s]\n100%|██████████| 50/50 [00:01<00:00, 33.98it/s]\n100%|██████████| 50/50 [00:01<00:00, 33.98it/s]\n100%|██████████| 50/50 [00:01<00:00, 33.88it/s]\n100%|██████████| 50/50 [00:01<00:00, 33.92it/s]\n100%|██████████| 50/50 [00:01<00:00, 33.66it/s]\n100%|██████████| 50/50 [00:01<00:00, 33.79it/s]\n100%|██████████| 50/50 [00:01<00:00, 33.75it/s]\n100%|██████████| 50/50 [00:01<00:00, 33.76it/s]\n100%|██████████| 50/50 [00:01<00:00, 33.70it/s]\n100%|██████████| 50/50 [00:01<00:00, 33.73it/s]\n100%|██████████| 50/50 [00:01<00:00, 33.76it/s]\n100%|██████████| 50/50 [00:01<00:00, 33.78it/s]\n100%|██████████| 50/50 [00:01<00:00, 33.76it/s]\n100%|██████████| 50/50 [00:01<00:00, 33.81it/s]\n100%|██████████| 50/50 [00:01<00:00, 33.73it/s]\n100%|██████████| 50/50 [00:01<00:00, 33.82it/s]\n100%|██████████| 50/50 [00:01<00:00, 33.81it/s]\n100%|██████████| 50/50 [00:01<00:00, 33.84it/s]\n100%|██████████| 50/50 [00:01<00:00, 33.82it/s]\n100%|██████████| 50/50 [00:01<00:00, 33.75it/s]\n100%|██████████| 50/50 [00:01<00:00, 33.71it/s]\n100%|██████████| 50/50 [00:01<00:00, 33.71it/s]\n100%|██████████| 50/50 [00:01<00:00, 33.63it/s]\n100%|██████████| 50/50 [00:01<00:00, 34.03it/s]\n100%|██████████| 50/50 [00:01<00:00, 34.09it/s]\n100%|██████████| 50/50 [00:01<00:00, 33.94it/s]\n100%|██████████| 50/50 [00:01<00:00, 33.96it/s]\n100%|██████████| 50/50 [00:01<00:00, 34.00it/s]\n100%|██████████| 50/50 [00:01<00:00, 33.90it/s]\n100%|██████████| 50/50 [00:01<00:00, 33.83it/s]\n100%|██████████| 50/50 [00:01<00:00, 33.84it/s]\n100%|██████████| 50/50 [00:01<00:00, 33.85it/s]\n100%|██████████| 50/50 [00:01<00:00, 33.72it/s]\n100%|██████████| 50/50 [00:01<00:00, 33.90it/s]\n100%|██████████| 50/50 [00:01<00:00, 33.92it/s]\n100%|██████████| 50/50 [00:01<00:00, 33.80it/s]\n100%|██████████| 50/50 [00:01<00:00, 33.80it/s]\n100%|██████████| 50/50 [00:01<00:00, 33.74it/s]\n100%|██████████| 50/50 [00:01<00:00, 33.85it/s]\n100%|██████████| 50/50 [00:01<00:00, 33.74it/s]\n100%|██████████| 50/50 [00:01<00:00, 33.83it/s]\n100%|██████████| 50/50 [00:01<00:00, 33.74it/s]\n100%|██████████| 50/50 [00:01<00:00, 33.82it/s]\n100%|██████████| 50/50 [00:01<00:00, 33.82it/s]\n100%|██████████| 50/50 [00:01<00:00, 33.76it/s]\n100%|██████████| 50/50 [00:01<00:00, 33.99it/s]\n100%|██████████| 50/50 [00:01<00:00, 34.01it/s]\n100%|██████████| 50/50 [00:01<00:00, 33.92it/s]\n100%|██████████| 50/50 [00:01<00:00, 33.91it/s]\n100%|██████████| 50/50 [00:01<00:00, 34.04it/s]\n100%|██████████| 50/50 [00:01<00:00, 34.03it/s]\n100%|██████████| 50/50 [00:01<00:00, 34.05it/s]\n100%|██████████| 50/50 [00:01<00:00, 33.91it/s]\n100%|██████████| 50/50 [00:01<00:00, 34.00it/s]\n100%|██████████| 50/50 [00:01<00:00, 33.82it/s]\n100%|██████████| 50/50 [00:01<00:00, 33.79it/s]\n100%|██████████| 50/50 [00:01<00:00, 34.00it/s]\n100%|██████████| 50/50 [00:01<00:00, 33.99it/s]\n100%|██████████| 50/50 [00:01<00:00, 34.03it/s]\n100%|██████████| 50/50 [00:01<00:00, 33.93it/s]\n100%|██████████| 50/50 [00:01<00:00, 33.37it/s]\n100%|██████████| 50/50 [00:01<00:00, 33.72it/s]\n100%|██████████| 50/50 [00:01<00:00, 33.61it/s]\n100%|██████████| 50/50 [00:01<00:00, 33.73it/s]\n100%|██████████| 50/50 [00:01<00:00, 34.01it/s]\n100%|██████████| 50/50 [00:01<00:00, 33.97it/s]\n100%|██████████| 50/50 [00:01<00:00, 34.13it/s]\n100%|██████████| 50/50 [00:01<00:00, 34.03it/s]\n100%|██████████| 50/50 [00:01<00:00, 33.96it/s]\n100%|██████████| 50/50 [00:01<00:00, 34.10it/s]\n100%|██████████| 50/50 [00:01<00:00, 34.04it/s]\n100%|██████████| 50/50 [00:01<00:00, 34.09it/s]\n100%|██████████| 50/50 [00:01<00:00, 34.04it/s]\n100%|██████████| 50/50 [00:01<00:00, 34.02it/s]\n100%|██████████| 50/50 [00:01<00:00, 34.04it/s]\n100%|██████████| 50/50 [00:01<00:00, 33.78it/s]\n100%|██████████| 50/50 [00:01<00:00, 33.94it/s]\n100%|██████████| 50/50 [00:01<00:00, 33.97it/s]\n100%|██████████| 50/50 [00:01<00:00, 33.82it/s]\n100%|██████████| 50/50 [00:01<00:00, 33.90it/s]\n100%|██████████| 50/50 [00:01<00:00, 33.92it/s]\n100%|██████████| 50/50 [00:01<00:00, 33.76it/s]\n100%|██████████| 50/50 [00:01<00:00, 33.91it/s]\n100%|██████████| 50/50 [00:01<00:00, 33.87it/s]\n100%|██████████| 50/50 [00:01<00:00, 33.93it/s]\n100%|██████████| 50/50 [00:01<00:00, 33.85it/s]\n100%|██████████| 50/50 [00:01<00:00, 33.84it/s]\n100%|██████████| 50/50 [00:01<00:00, 33.92it/s]\n100%|██████████| 50/50 [00:01<00:00, 33.95it/s]\n100%|██████████| 50/50 [00:01<00:00, 33.90it/s]\n100%|██████████| 50/50 [00:01<00:00, 33.91it/s]\n100%|██████████| 50/50 [00:01<00:00, 34.00it/s]\n100%|██████████| 50/50 [00:01<00:00, 33.90it/s]\n100%|██████████| 50/50 [00:01<00:00, 33.98it/s]\n100%|██████████| 50/50 [00:01<00:00, 33.84it/s]\n100%|██████████| 50/50 [00:01<00:00, 33.84it/s]\n100%|██████████| 50/50 [00:01<00:00, 33.94it/s]\n100%|██████████| 50/50 [00:01<00:00, 33.83it/s]\n100%|██████████| 50/50 [00:01<00:00, 33.74it/s]\n100%|██████████| 50/50 [00:01<00:00, 34.03it/s]\n100%|██████████| 50/50 [00:01<00:00, 33.85it/s]\n100%|██████████| 50/50 [00:01<00:00, 33.87it/s]\n100%|██████████| 50/50 [00:01<00:00, 33.74it/s]\n100%|██████████| 50/50 [00:01<00:00, 33.94it/s]\n100%|██████████| 50/50 [00:01<00:00, 34.05it/s]\n100%|██████████| 50/50 [00:01<00:00, 34.04it/s]\n100%|██████████| 50/50 [00:01<00:00, 33.99it/s]\n100%|██████████| 50/50 [00:01<00:00, 33.99it/s]\n100%|██████████| 50/50 [00:01<00:00, 33.89it/s]\n100%|██████████| 50/50 [00:01<00:00, 34.08it/s]\n100%|██████████| 50/50 [00:01<00:00, 34.04it/s]\n100%|██████████| 50/50 [00:01<00:00, 33.97it/s]\n100%|██████████| 50/50 [00:01<00:00, 34.00it/s]\n100%|██████████| 50/50 [00:01<00:00, 33.98it/s]\n100%|██████████| 50/50 [00:01<00:00, 33.80it/s]\n100%|██████████| 50/50 [00:01<00:00, 34.00it/s]\n100%|██████████| 50/50 [00:01<00:00, 33.97it/s]\n100%|██████████| 50/50 [00:01<00:00, 33.80it/s]\n100%|██████████| 50/50 [00:01<00:00, 33.91it/s]\n100%|██████████| 50/50 [00:01<00:00, 33.68it/s]\n100%|██████████| 50/50 [00:01<00:00, 33.60it/s]\n100%|██████████| 50/50 [00:01<00:00, 33.94it/s]\n100%|██████████| 50/50 [00:01<00:00, 34.09it/s]\n100%|██████████| 50/50 [00:01<00:00, 34.05it/s]\n100%|██████████| 50/50 [00:01<00:00, 34.09it/s]\n100%|██████████| 50/50 [00:01<00:00, 33.99it/s]\n100%|██████████| 50/50 [00:01<00:00, 34.13it/s]\n100%|██████████| 50/50 [00:01<00:00, 34.04it/s]\n100%|██████████| 50/50 [00:01<00:00, 34.03it/s]\n100%|██████████| 50/50 [00:01<00:00, 34.10it/s]\n100%|██████████| 50/50 [00:01<00:00, 34.02it/s]\n100%|██████████| 50/50 [00:01<00:00, 33.96it/s]\n100%|██████████| 50/50 [00:01<00:00, 34.04it/s]\n100%|██████████| 50/50 [00:01<00:00, 34.04it/s]\n100%|██████████| 50/50 [00:01<00:00, 34.07it/s]\n100%|██████████| 50/50 [00:01<00:00, 34.04it/s]\n100%|██████████| 50/50 [00:01<00:00, 34.05it/s]\n100%|██████████| 50/50 [00:01<00:00, 33.96it/s]\n100%|██████████| 50/50 [00:01<00:00, 33.95it/s]\n100%|██████████| 50/50 [00:01<00:00, 33.91it/s]\n100%|██████████| 50/50 [00:01<00:00, 33.88it/s]\n100%|██████████| 50/50 [00:01<00:00, 33.90it/s]\n100%|██████████| 50/50 [00:01<00:00, 33.90it/s]\n100%|██████████| 50/50 [00:01<00:00, 33.93it/s]\n100%|██████████| 50/50 [00:01<00:00, 33.94it/s]\n100%|██████████| 50/50 [00:01<00:00, 33.96it/s]\n100%|██████████| 50/50 [00:01<00:00, 33.87it/s]\n100%|██████████| 50/50 [00:01<00:00, 33.93it/s]\n100%|██████████| 50/50 [00:01<00:00, 33.87it/s]\n100%|██████████| 50/50 [00:01<00:00, 33.96it/s]\n100%|██████████| 50/50 [00:01<00:00, 33.85it/s]\n100%|██████████| 50/50 [00:01<00:00, 33.93it/s]\n100%|██████████| 50/50 [00:01<00:00, 33.91it/s]\n100%|██████████| 50/50 [00:01<00:00, 33.65it/s]\n100%|██████████| 50/50 [00:01<00:00, 33.98it/s]\n100%|██████████| 50/50 [00:01<00:00, 33.92it/s]\n100%|██████████| 50/50 [00:01<00:00, 33.87it/s]\n100%|██████████| 50/50 [00:01<00:00, 33.84it/s]\n100%|██████████| 50/50 [00:01<00:00, 33.89it/s]\n100%|██████████| 50/50 [00:01<00:00, 33.92it/s]\n100%|██████████| 50/50 [00:01<00:00, 33.95it/s]\n100%|██████████| 50/50 [00:01<00:00, 34.00it/s]\n100%|██████████| 50/50 [00:01<00:00, 34.00it/s]\n100%|██████████| 50/50 [00:01<00:00, 33.93it/s]\n100%|██████████| 50/50 [00:01<00:00, 33.92it/s]\n100%|██████████| 50/50 [00:01<00:00, 34.00it/s]\n100%|██████████| 50/50 [00:01<00:00, 33.78it/s]\n100%|██████████| 50/50 [00:01<00:00, 33.72it/s]\n100%|██████████| 50/50 [00:01<00:00, 33.98it/s]\n100%|██████████| 50/50 [00:01<00:00, 34.05it/s]\n100%|██████████| 50/50 [00:01<00:00, 33.86it/s]\n100%|██████████| 50/50 [00:01<00:00, 34.07it/s]\n100%|██████████| 50/50 [00:01<00:00, 34.03it/s]\n100%|██████████| 50/50 [00:01<00:00, 33.90it/s]\n100%|██████████| 50/50 [00:01<00:00, 34.02it/s]\n100%|██████████| 50/50 [00:01<00:00, 33.87it/s]\n100%|██████████| 50/50 [00:01<00:00, 33.69it/s]\n100%|██████████| 50/50 [00:01<00:00, 33.62it/s]\n100%|██████████| 50/50 [00:01<00:00, 33.74it/s]\n100%|██████████| 50/50 [00:01<00:00, 33.69it/s]\n100%|██████████| 50/50 [00:01<00:00, 33.54it/s]\n100%|██████████| 50/50 [00:01<00:00, 33.87it/s]\n100%|██████████| 50/50 [00:01<00:00, 33.84it/s]\n100%|██████████| 50/50 [00:01<00:00, 33.77it/s]\n100%|██████████| 50/50 [00:01<00:00, 33.82it/s]\n100%|██████████| 50/50 [00:01<00:00, 33.74it/s]\n100%|██████████| 50/50 [00:01<00:00, 33.55it/s]\n100%|██████████| 50/50 [00:01<00:00, 33.87it/s]\n100%|██████████| 50/50 [00:01<00:00, 33.84it/s]\n100%|██████████| 50/50 [00:01<00:00, 33.92it/s]\n100%|██████████| 50/50 [00:01<00:00, 33.61it/s]\n100%|██████████| 50/50 [00:01<00:00, 33.87it/s]\n100%|██████████| 50/50 [00:01<00:00, 33.66it/s]\n100%|██████████| 50/50 [00:01<00:00, 33.73it/s]\n100%|██████████| 50/50 [00:01<00:00, 33.79it/s]\n100%|██████████| 50/50 [00:01<00:00, 33.74it/s]\n100%|██████████| 50/50 [00:01<00:00, 33.87it/s]\n100%|██████████| 50/50 [00:01<00:00, 33.86it/s]\n100%|██████████| 50/50 [00:01<00:00, 33.79it/s]\n100%|██████████| 50/50 [00:01<00:00, 33.88it/s]\n100%|██████████| 50/50 [00:01<00:00, 33.69it/s]\n100%|██████████| 50/50 [00:01<00:00, 33.81it/s]\n100%|██████████| 50/50 [00:01<00:00, 33.87it/s]\n100%|██████████| 50/50 [00:01<00:00, 33.77it/s]\n100%|██████████| 50/50 [00:01<00:00, 33.89it/s]\n100%|██████████| 50/50 [00:01<00:00, 33.78it/s]\n100%|██████████| 50/50 [00:01<00:00, 33.92it/s]\n100%|██████████| 50/50 [00:01<00:00, 33.87it/s]\n100%|██████████| 50/50 [00:01<00:00, 33.80it/s]\n100%|██████████| 50/50 [00:01<00:00, 33.84it/s]\n100%|██████████| 50/50 [00:01<00:00, 33.81it/s]\n100%|██████████| 50/50 [00:01<00:00, 33.82it/s]\n100%|██████████| 50/50 [00:01<00:00, 33.72it/s]\n100%|██████████| 50/50 [00:01<00:00, 33.80it/s]\n100%|██████████| 50/50 [00:01<00:00, 33.86it/s]\n100%|██████████| 50/50 [00:01<00:00, 33.81it/s]\n100%|██████████| 50/50 [00:01<00:00, 33.68it/s]\n100%|██████████| 50/50 [00:01<00:00, 33.89it/s]\n"
        }
      ],
      "execution_count": 46,
      "metadata": {
        "jupyter": {
          "source_hidden": false,
          "outputs_hidden": false
        },
        "nteract": {
          "transient": {
            "deleting": false
          }
        },
        "gather": {
          "logged": 1711353481316
        }
      }
    },
    {
      "cell_type": "code",
      "source": [],
      "outputs": [],
      "execution_count": null,
      "metadata": {
        "jupyter": {
          "source_hidden": false,
          "outputs_hidden": false
        },
        "nteract": {
          "transient": {
            "deleting": false
          }
        }
      }
    }
  ],
  "metadata": {
    "kernelspec": {
      "name": "myenv",
      "language": "python",
      "display_name": "Python (myenv)"
    },
    "language_info": {
      "name": "python",
      "version": "3.10.12",
      "mimetype": "text/x-python",
      "codemirror_mode": {
        "name": "ipython",
        "version": 3
      },
      "pygments_lexer": "ipython3",
      "nbconvert_exporter": "python",
      "file_extension": ".py"
    },
    "microsoft": {
      "ms_spell_check": {
        "ms_spell_check_language": "en"
      },
      "host": {
        "AzureML": {
          "notebookHasBeenCompleted": true
        }
      }
    },
    "kernel_info": {
      "name": "myenv"
    },
    "nteract": {
      "version": "nteract-front-end@1.0.0"
    }
  },
  "nbformat": 4,
  "nbformat_minor": 2
}